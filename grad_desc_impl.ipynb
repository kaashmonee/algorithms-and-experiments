{
 "cells": [
  {
   "cell_type": "markdown",
   "id": "e3cc34cf",
   "metadata": {},
   "source": [
    "# gradient descent implementation\n",
    "using chatgpt to learn about linear regression and implement gradient descent from scratch\n",
    "\n",
    "*constraints*\n",
    "* no external libraries except numpy"
   ]
  },
  {
   "cell_type": "code",
   "execution_count": 17,
   "id": "308aa0d1",
   "metadata": {},
   "outputs": [
    {
     "name": "stdout",
     "output_type": "stream",
     "text": [
      "The nb_mypy extension is already loaded. To reload it, use:\n",
      "  %reload_ext nb_mypy\n"
     ]
    }
   ],
   "source": [
    "%load_ext nb_mypy"
   ]
  },
  {
   "cell_type": "code",
   "execution_count": 53,
   "id": "076acfcd",
   "metadata": {},
   "outputs": [
    {
     "name": "stdout",
     "output_type": "stream",
     "text": [
      "completed in 12 iterations\n",
      "line: y = 7.715041285397711 * X + -1.698972334546264\n",
      "line: y = 7.715041285397711 * X + -1.698972334546264\n",
      "line: y = 7.715041285397711 * X + -1.698972334546264\n",
      "line: y = 7.715041285397711 * X + -1.698972334546264\n",
      "line: y = 4.525748315136914 * X + -3.3864453256336837\n",
      "line: y = 1.5947036018506524 * X + -1.7747133439580427\n",
      "line: y = 0.4992203623793974 * X + -0.29348896345264164\n",
      "line: y = 0.533907907144918 * X + 0.26012131597586585\n",
      "line: y = 0.8362825784033645 * X + 0.242591717476853\n",
      "line: y = 1.0244630466742826 * X + 0.08978451768045273\n",
      "line: y = 1.0698665986809741 * X + -0.005313826017378023\n",
      "line: y = 1.0513947038486622 * X + -0.028258835313552496\n",
      "line: y = 1.0277622695299313 * X + -0.018923931326681846\n",
      "line: y = 1.017079910340333 * X + -0.006981111851795896\n",
      "line: y = 1.0161542559180725 * X + -0.001582705337823437\n"
     ]
    },
    {
     "data": {
      "image/png": "[encoded data removed]",
      "text/plain": [
       "<Figure size 640x480 with 1 Axes>"
      ]
     },
     "metadata": {},
     "output_type": "display_data"
    }
   ],
   "source": [
    "import matplotlib.pyplot as plt\n",
    "import numpy as np\n",
    "from typing import Tuple, List\n",
    "from matplotlib.animation import FuncAnimation\n",
    "\n",
    "# source: ChatGPT\n",
    "# prompt: generate a scatter plot in matplotlib\n",
    "# result:\n",
    "# also generates a linear scatter plot\n",
    "rng = np.random.default_rng(1234)\n",
    "def generate_scatter() -> Tuple[np.ndarray, np.ndarray]:\n",
    "    # Generating some random data for the scatter plot\n",
    "    x = rng.uniform(0, 1, size=100)\n",
    "    y = x + rng.normal(loc=0, scale=0.1, size=100)\n",
    "    return x, y\n",
    "\n",
    "xn, yn = generate_scatter()\n",
    "\n",
    "# now write the function to do the gradient descent and allow the user to vary the fit\n",
    "def fit(x: np.ndarray, y: np.ndarray) -> Tuple[list, list]:\n",
    "    alpha: float = 0.5\n",
    "    n = len(x)\n",
    "    assert len(x) == len(y)\n",
    "    def f(m: float, b: float) -> Tuple[float, float]:\n",
    "        new_m = m - alpha * (-2/n) * sum(x * (y - m * x + b))\n",
    "        new_b = b - alpha * (-2/n) * sum(y - (m * x + b))\n",
    "        return new_m, new_b\n",
    "   \n",
    " \n",
    "    m: float = np.random.random()\n",
    "    b: float = np.random.random()\n",
    "    mp = m*10\n",
    "    bp = b*10\n",
    "    iterations = 0\n",
    "    precision = 0.005\n",
    "    mps, bps = [], []\n",
    "    while abs(mp-m) > precision and abs(bp-b) > precision:\n",
    "        # mprime, bprime\n",
    "        m, b = mp, bp\n",
    "        mp, bp = f(mp, bp)\n",
    "        mps.append(mp)\n",
    "        bps.append(bp)\n",
    "        iterations += 1\n",
    "        \n",
    "    print(f\"completed in {iterations} iterations\")\n",
    "    return mps, bps\n",
    "    \n",
    "mps, bps = fit(xn, yn)\n",
    "# Creating the figure and axis objects\n",
    "fig, ax = plt.subplots()\n",
    "ax.set_xlim(0, 1)\n",
    "ax.set_ylim(0, 1)\n",
    "sc = ax.scatter(xn, yn)\n",
    "# initialize an empty line\n",
    "line, = ax.plot([], [], lw=2)\n",
    "line.set_color(\"r\")\n",
    "fig.xla\n",
    "\n",
    "# Update function for the animation\n",
    "def update(frame: int) -> List[plt.Line2D]:\n",
    "    # Updating the data\n",
    "    cur_m = mps[frame]\n",
    "    cur_b = bps[frame]\n",
    "    new_ys = cur_m * xn + cur_b\n",
    "    line.set_data(xn, new_ys)\n",
    "    line_label_val = f\"y = {cur_m} * X + {cur_b}\"\n",
    "    return [line]\n",
    "\n",
    "ani = FuncAnimation(fig, update, frames=len(mps), interval=1000, blit=True)\n",
    "gif_path = \"out.gif\"\n",
    "ani.save(gif_path, writer='pillow', fps=100)"
   ]
  },
  {
   "cell_type": "code",
   "execution_count": null,
   "id": "5dc5893f",
   "metadata": {},
   "outputs": [],
   "source": []
  }
 ],
 "metadata": {
  "kernelspec": {
   "display_name": "Python 3 (ipykernel)",
   "language": "python",
   "name": "python3"
  },
  "language_info": {
   "codemirror_mode": {
    "name": "ipython",
    "version": 3
   },
   "file_extension": ".py",
   "mimetype": "text/x-python",
   "name": "python",
   "nbconvert_exporter": "python",
   "pygments_lexer": "ipython3",
   "version": "3.11.5"
  }
 },
 "nbformat": 4,
 "nbformat_minor": 5
}
