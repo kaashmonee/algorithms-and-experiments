{
 "cells": [
  {
   "cell_type": "markdown",
   "id": "2bb3cdd1",
   "metadata": {},
   "source": [
    "# gradient descent implementation\n",
    "using chatgpt to learn about linear regression and implement gradient descent from scratch\n",
    "\n",
    "*constraints*\n",
    "* no external libraries except numpy"
   ]
  },
  {
   "cell_type": "code",
   "execution_count": 17,
   "id": "fd63ea27",
   "metadata": {},
   "outputs": [
    {
     "name": "stdout",
     "output_type": "stream",
     "text": [
      "The nb_mypy extension is already loaded. To reload it, use:\n",
      "  %reload_ext nb_mypy\n"
     ]
    }
   ],
   "source": [
    "%load_ext nb_mypy"
   ]
  },
  {
   "cell_type": "code",
   "execution_count": 35,
   "id": "ff1f2d03",
   "metadata": {},
   "outputs": [
    {
     "data": {
      "image/png": "[encoded data removed]",
      "text/plain": [
       "<Figure size 640x480 with 1 Axes>"
      ]
     },
     "metadata": {},
     "output_type": "display_data"
    },
    {
     "name": "stdout",
     "output_type": "stream",
     "text": [
      "iterations: 1\n",
      "iterations: 2\n",
      "iterations: 3\n",
      "iterations: 4\n",
      "iterations: 5\n",
      "iterations: 6\n",
      "iterations: 7\n",
      "iterations: 8\n",
      "iterations: 9\n",
      "iterations: 10\n",
      "iterations: 11\n",
      "completed in 11 iterations\n"
     ]
    }
   ],
   "source": [
    "import matplotlib.pyplot as plt\n",
    "import numpy as np\n",
    "from typing import Tuple, List\n",
    "\n",
    "# source: ChatGPT\n",
    "# prompt: generate a scatter plot in matplotlib\n",
    "# result:\n",
    "def generate_scatter() -> Tuple[np.ndarray, np.ndarray]:\n",
    "    # Generating some random data for the scatter plot\n",
    "    np.random.seed(0)\n",
    "    x = np.random.rand(50)\n",
    "    y = np.random.rand(50)\n",
    "    return x, y\n",
    "\n",
    "xn, yn = generate_scatter()\n",
    "\n",
    "# now write the function to do the gradient descent and allow the user to vary the fit\n",
    "def fit(x: np.ndarray, y: np.ndarray) -> Tuple[list, list]:\n",
    "    alpha: float = 0.5\n",
    "    n = len(x)\n",
    "    assert len(x) == len(y)\n",
    "    def f(m: float, b: float) -> Tuple[float, float]:\n",
    "        new_m = m - alpha * (-2/n) * sum(x * (y - m * x + b))\n",
    "        new_b = b - alpha * (-2/n) * sum(y - (m * x + b))\n",
    "        return new_m, new_b\n",
    "   \n",
    " \n",
    "    m: float = np.random.random()\n",
    "    b: float = np.random.random()\n",
    "    mp = m*10\n",
    "    bp = b*10\n",
    "    iterations = 0\n",
    "    precision = 0.005\n",
    "    mps, bps = [], []\n",
    "    while abs(mp-m) > precision and abs(bp-b) > precision:\n",
    "        # mprime, bprime\n",
    "        m, b = mp, bp\n",
    "        mp, bp = f(mp, bp)\n",
    "        mps.append(mp)\n",
    "        bps.append(bp)\n",
    "        iterations += 1\n",
    "        \n",
    "    print(f\"completed in {iterations} iterations\")\n",
    "    return np.array(mps), np.array(bps)\n",
    "    \n",
    "mps, bps = fit(xn, yn)\n",
    "# Creating the figure and axis objects\n",
    "fig, ax = plt.subplots()\n",
    "ax.set_xlim(0, 1)\n",
    "ax.set_ylim(0, 1)\n",
    "sc = ax.scatter(xn, yn)\n",
    "# initialize an empty line\n",
    "line, = ax.plot([], [], lw=2)\n",
    "\n",
    "# Update function for the animation\n",
    "def update(frame: int) -> List[plt.Line2D]:\n",
    "    # Updating the data\n",
    "    new_y = \n",
    "    line.set_data(xn[:frame], )\n",
    "    return sc,\n",
    "   "
   ]
  },
  {
   "cell_type": "code",
   "execution_count": null,
   "id": "a6b09199",
   "metadata": {},
   "outputs": [],
   "source": []
  }
 ],
 "metadata": {
  "kernelspec": {
   "display_name": "Python 3 (ipykernel)",
   "language": "python",
   "name": "python3"
  },
  "language_info": {
   "codemirror_mode": {
    "name": "ipython",
    "version": 3
   },
   "file_extension": ".py",
   "mimetype": "text/x-python",
   "name": "python",
   "nbconvert_exporter": "python",
   "pygments_lexer": "ipython3",
   "version": "3.11.5"
  }
 },
 "nbformat": 4,
 "nbformat_minor": 5
}
